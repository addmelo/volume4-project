{
 "cells": [
  {
   "cell_type": "code",
   "execution_count": 1,
   "id": "cb12e169",
   "metadata": {},
   "outputs": [
    {
     "name": "stdout",
     "output_type": "stream",
     "text": [
      "Stored 'testString' (str)\n"
     ]
    }
   ],
   "source": [
    "testString = \"This string will hopefully make it to the other notebook\"\n",
    "%store testString"
   ]
  },
  {
   "cell_type": "code",
   "execution_count": null,
   "id": "04c2bbc0",
   "metadata": {},
   "outputs": [],
   "source": []
  }
 ],
 "metadata": {
  "kernelspec": {
   "display_name": "Python 3 (ipykernel)",
   "language": "python",
   "name": "python3"
  },
  "language_info": {
   "codemirror_mode": {
    "name": "ipython",
    "version": 3
   },
   "file_extension": ".py",
   "mimetype": "text/x-python",
   "name": "python",
   "nbconvert_exporter": "python",
   "pygments_lexer": "ipython3",
   "version": "3.9.18"
  }
 },
 "nbformat": 4,
 "nbformat_minor": 5
}
