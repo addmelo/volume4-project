{
 "cells": [
  {
   "cell_type": "code",
   "execution_count": 16,
   "metadata": {},
   "outputs": [],
   "source": [
    "import numpy as np\n",
    "from matplotlib import pyplot as plt\n",
    "from scipy.integrate import solve_ivp\n",
    "import math"
   ]
  },
  {
   "cell_type": "markdown",
   "metadata": {},
   "source": [
    "Defining an ODE that does SIR population Dynamics and the capital growth equation in a single ODE"
   ]
  },
  {
   "cell_type": "code",
   "execution_count": null,
   "metadata": {},
   "outputs": [],
   "source": [
    "def population_with_captial_growth(fertility_rate=2.1, life_expectancy=85, fertility_starts=18, fertility_ends=40,A=1,alpha=.5,delta=0.08,s=.3):\n",
    "    #TODO: incorporate Michael's capital effectiveness that changes with age\n",
    "    #TODO: make it so that n incorporates arbitrary ages for entering/leaving the labor force\n",
    "    # Validate input parameters\n",
    "    if not isinstance(life_expectancy, int):\n",
    "        raise ValueError(\"Life expectancy must be an integer in this model\")\n",
    "    elif life_expectancy < 40:\n",
    "        raise ValueError(\"This model requires life_expectancy to be at least 40\")\n",
    "\n",
    "    def ode(t, x):\n",
    "        \"\"\"\n",
    "        Ordinary differential equation representing the SIR population dynamics with granular fertility\n",
    "        AND the capital growth model.\n",
    "        Incorporates a population schock at time t=50 where 10% of the 18-40 population die\n",
    "\n",
    "        Parameters:\n",
    "        - t: Time variable.\n",
    "        - x: Array representing the state variables, where x[i] represents the number of people at age i.\n",
    "        x[:-1] = population of each age group\n",
    "        x[-1] = capital k\n",
    "\n",
    "        Returns:\n",
    "        - dx: Array representing the rates of change of the state variables.\n",
    "        dx[:-1] = change in population of each age group\n",
    "        dx[-1] =  k' (change of capital)\n",
    "        \"\"\"\n",
    "        dx = np.zeros_like(x)\n",
    "\n",
    "        # Calculate the births based on the fertility rate\n",
    "        if callable(fertility_rate):\n",
    "            dx[0] = 0.5 * fertility_rate(t) * np.mean(x[fertility_starts:fertility_ends + 1])-x[0]\n",
    "        else:\n",
    "            dx[0] = 0.5 * fertility_rate * np.mean(x[fertility_starts:fertility_ends + 1]) - x[0]\n",
    "\n",
    "        # Calculate the change in other age categories\n",
    "        dx[1:-1] = x[:-2] - x[1:-1]\n",
    "        # dx[1:] = x[:-1] - x[1:]\n",
    "        \n",
    "        #Calculate current working population rate change\n",
    "        n = (dx[18] - dx[66])/np.sum(x[18:66])\n",
    "\n",
    "        #Define a function to return the income per person in the economy. \n",
    "        def y(k, alpha=alpha, A=A):\n",
    "            if callable(A):\n",
    "                return A(t)*k**alpha\n",
    "            else:\n",
    "                return A*k**alpha\n",
    "\n",
    "        #The captital evolution equation\n",
    "        def kprime(k, alpha=alpha, s=s, delta=delta, n=n, A=A):\n",
    "            return s*y(k, alpha, A) - (delta + n)*k\n",
    "        \n",
    "        #Define the last element of dx to be capital growth\n",
    "        dx[-1] = kprime(x[-1], alpha=alpha, s=s, delta=delta, n=n, A=A)\n",
    "\n",
    "        return dx\n",
    "    return ode"
   ]
  },
  {
   "cell_type": "markdown",
   "metadata": {},
   "source": [
    "Consolidate Age Groups Function"
   ]
  },
  {
   "cell_type": "code",
   "execution_count": 3,
   "metadata": {},
   "outputs": [],
   "source": [
    "def consolidate_age_groups(x,age_brackets = [18,40,65],return_labels = False):\n",
    "    age_brackets.sort()\n",
    "    M = [0]+age_brackets + [len(x)]\n",
    "    ns = np.array([np.sum(x[M[i]:M[i+1]],axis = 0)for i in range(len(M)-1)])\n",
    "    if return_labels:\n",
    "        labels = [f\"{M[i]}-{M[i+1]}\" for i in range(len(M)-1)]\n",
    "        return ns,labels\n",
    "    else:\n",
    "        return ns"
   ]
  },
  {
   "cell_type": "markdown",
   "metadata": {},
   "source": [
    "### Simulating the effect on a war on a country's economy:\n",
    "We will now modify the granular population model to have a shock in which 10% of all 18-40 year olds die in a war, 10% of the country's capital is lost in the war\n",
    "We then use the following equations:\n",
    "$$\\dot n_0 = \\frac {1} {2} r_f \\sum_{i = 20}^{40} \\frac{n_i}{20}$$\n",
    "$$\\dot n_i = n_{i-1} - n_i, \\ \\forall i \\in \\{1,2,...,k\\}$$\n",
    "Where $r_f$ is the fertility rate and $k$ is the 'life expectancy'.\n"
   ]
  },
  {
   "cell_type": "code",
   "execution_count": 23,
   "metadata": {},
   "outputs": [
    {
     "name": "stdout",
     "output_type": "stream",
     "text": [
      "49.67833026344834\n",
      "49.959272076084744\n",
      "50.05219279805839\n",
      "50.168343700525455\n",
      "50.168343700525455\n",
      "50.377415324966165\n",
      "50.48195113718652\n"
     ]
    },
    {
     "data": {
      "image/png": "[encoded data removed]",
      "text/plain": [
       "<Figure size 432x288 with 1 Axes>"
      ]
     },
     "metadata": {
      "needs_background": "light"
     },
     "output_type": "display_data"
    }
   ],
   "source": [
    "def population_with_captial_growth(fertility_rate=2.1, life_expectancy=85, fertility_starts=18, fertility_ends=40,A=1,alpha=.5,delta=0.08,s=.3):\n",
    "    #TODO: incorporate Michael's capital effectiveness that changes with age\n",
    "    #TODO: make it so that n incorporates arbitrary ages for entering/leaving the labor force\n",
    "    # Validate input parameters\n",
    "    if not isinstance(life_expectancy, int):\n",
    "        raise ValueError(\"Life expectancy must be an integer in this model\")\n",
    "    elif life_expectancy < 40:\n",
    "        raise ValueError(\"This model requires life_expectancy to be at least 40\")\n",
    "\n",
    "    def ode(t, x):\n",
    "        \"\"\"\n",
    "        Ordinary differential equation representing the SIR population dynamics with granular fertility\n",
    "        AND the capital growth model.\n",
    "        Incorporates a population schock at time t=50 where 10% of the 18-40 population die\n",
    "\n",
    "        Parameters:\n",
    "        - t: Time variable.\n",
    "        - x: Array representing the state variables, where x[i] represents the number of people at age i.\n",
    "        x[:-1] = population of each age group\n",
    "        x[-1] = capital k\n",
    "\n",
    "        Returns:\n",
    "        - dx: Array representing the rates of change of the state variables.\n",
    "        dx[:-1] = change in population of each age group\n",
    "        dx[-1] =  k' (change of capital)\n",
    "        \"\"\"\n",
    "        dx = np.zeros_like(x)\n",
    "\n",
    "        # Calculate the births based on the fertility rate\n",
    "        if callable(fertility_rate):\n",
    "            dx[0] = 0.5 * fertility_rate(t) * np.mean(x[fertility_starts:fertility_ends + 1])-x[0]\n",
    "        else:\n",
    "            dx[0] = 0.5 * fertility_rate * np.mean(x[fertility_starts:fertility_ends + 1]) - x[0]\n",
    "\n",
    "        # Calculate the change in other age categories\n",
    "        dx[1:-1] = x[:-2] - x[1:-1]\n",
    "        # dx[1:] = x[:-1] - x[1:]\n",
    "        \n",
    "        #Calculate current working population rate change\n",
    "        n = (dx[18] - dx[66])/np.sum(x[18:66])\n",
    "\n",
    "        #Define a function to return the income per person in the economy. \n",
    "        def y(k, alpha=alpha, A=A):\n",
    "            if callable(A):\n",
    "                return A(t)*k**alpha\n",
    "            else:\n",
    "                return A*k**alpha\n",
    "\n",
    "        #The captital evolution equation\n",
    "        def kprime(k, alpha=alpha, s=s, delta=delta, n=n, A=A):\n",
    "            return s*y(k, alpha, A) - (delta + n)*k\n",
    "        \n",
    "        dx[-1] = kprime(x[-1], alpha=alpha, s=s, delta=delta, n=n, A=A)\n",
    "\n",
    "\n",
    "\n",
    "        return dx\n",
    "    \n",
    "    \n",
    "\n",
    "\n",
    "    return ode\n",
    "\n"
   ]
  },
  {
   "cell_type": "code",
   "execution_count": null,
   "metadata": {},
   "outputs": [],
   "source": []
  },
  {
   "cell_type": "markdown",
   "metadata": {},
   "source": [
    "Now do the capital schock"
   ]
  },
  {
   "cell_type": "code",
   "execution_count": null,
   "metadata": {},
   "outputs": [],
   "source": [
    "\n",
    "# #Model the population & capital shock:\n",
    "# if 49.5<= t and t <=50.5:\n",
    "#     dx[18:40] = -.1*x[18:40]\n",
    "\n",
    "# Here we initialize the ode function to solve\n",
    "ode = population_SIR_granular_with_schock(fertility_rate=2.1, life_expectancy=85, fertility_starts=18, fertility_ends=40)\n",
    "\n",
    "ts = np.linspace(0,100,501)\n",
    "# Here we set the initial population\n",
    "x0 = np.exp(-.02*np.arange(life_expect))\n",
    "\n",
    "sol =solve_ivp(ode,(0,100),x0,t_eval=ts)\n",
    "# Here consolidate the ages into age brackets, to make the data more visible\n",
    "# Grouping the age brackets will also make it easier for our model\n",
    "values,labels = consolidate_age_groups(sol.y,return_labels=True)\n",
    "\n",
    "# Here we plot the results\n",
    "plt.plot(sol.t,fertility_rate(sol.t),\":k\",label = \"fertility rate\")\n",
    "plt.plot(sol.t,values.T,label = labels)\n",
    "plt.legend()\n",
    "plt.xlabel(\"Time (years)\")\n",
    "plt.ylabel(\"Population (millions)\")\n",
    "plt.show()"
   ]
  }
 ],
 "metadata": {
  "kernelspec": {
   "display_name": "Python 3 (ipykernel)",
   "language": "python",
   "name": "python3"
  },
  "language_info": {
   "codemirror_mode": {
    "name": "ipython",
    "version": 3
   },
   "file_extension": ".py",
   "mimetype": "text/x-python",
   "name": "python",
   "nbconvert_exporter": "python",
   "pygments_lexer": "ipython3",
   "version": "3.10.12"
  }
 },
 "nbformat": 4,
 "nbformat_minor": 2
}
