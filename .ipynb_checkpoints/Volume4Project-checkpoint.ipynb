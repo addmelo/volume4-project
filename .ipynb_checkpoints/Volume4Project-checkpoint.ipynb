{
 "cells": [
  {
   "cell_type": "code",
   "execution_count": 32,
   "metadata": {},
   "outputs": [],
   "source": [
    "import numpy as np\n",
    "from matplotlib import pyplot as plt\n",
    "from scipy.integrate import solve_ivp"
   ]
  },
  {
   "cell_type": "markdown",
   "metadata": {},
   "source": [
    "For the ordered pairs $(a_0,a_1), (a_1,a_2), (a_2,a_3),(a_3,a_4)$ with $0 = a_0 \\leq a_1 \\leq a_2 \\leq a_3 \\leq a_4$, \n",
    "we define each $n_i$ to be the number of people between the ages of $a_{i-1}$ and $a_i$.\n",
    "\n",
    "Our system of equations to model population change is the following:\n",
    "$$\\dot n_1(t) = \\delta_0 n_2(t) -\\delta_1 n_1(t)$$\n",
    "$$\\dot n_2(t) = \\delta_1 n_1(t) - \\delta_2 n_2(t)$$\n",
    "$$\\dot n_3(t) = \\delta_2 n_2(t) - \\delta_3 n_3(t)$$\n",
    "$$\\dot n_4(t) = \\delta_3 n_3(t) - \\delta_4 n_4(t)$$\n",
    "\n",
    "Where $\\delta_0 = \\frac {b} {a_1 - a_0}$ with birthrate $b$ and $\\delta_i = \\frac {1}{a_i-a_{i-1}}$\n"
   ]
  },
  {
   "cell_type": "code",
   "execution_count": 49,
   "metadata": {},
   "outputs": [],
   "source": [
    "def get_deltas(age_brackets=[18, 40, 65, 85]):\n",
    "    \"\"\"\n",
    "    Helper function that calculates and returns a list of deltas based on birthrate and age brackets.\n",
    "\n",
    "    Parameters:\n",
    "    - age_brackets (list): A list of age brackets defining the population segments.\n",
    "\n",
    "    Returns:\n",
    "    - list: A list of deltas calculated based on the given birthrate and age brackets.\n",
    "    \"\"\"\n",
    "\n",
    "    # Insert 0 at the beginning of age_brackets to simplify calculations\n",
    "    M = [0] + age_brackets\n",
    "\n",
    "    # Calculate deltas based on age brackets\n",
    "    deltas = [1 / (M[i] - M[i - 1]) for i in range(1, 5)]\n",
    "\n",
    "    # This is the births delta\n",
    "    deltas = [.5/(M[2]-M[1])]+deltas\n",
    "\n",
    "    # Return the modified delta list\n",
    "    return deltas\n"
   ]
  },
  {
   "cell_type": "code",
   "execution_count": 50,
   "metadata": {},
   "outputs": [],
   "source": [
    "def population_SIR(deltas,birthrate = 2):\n",
    "    \"\"\"\n",
    "    Creates a function representing the population dynamics in an SIR (Susceptible-Infectious-Recovered) model.\n",
    "\n",
    "    Parameters:\n",
    "    - deltas (list or array): A list or array containing the transition rates between different population compartments.\n",
    "    - birthrate (int or float or function) The birthrate for the country. Can be constant or a function of time.\n",
    "\n",
    "    Returns:\n",
    "    - function: A function representing the population dynamics in the SIR model.\n",
    "    \"\"\"\n",
    "\n",
    "    # Convert deltas to a NumPy array for numerical operations\n",
    "    d = np.array(deltas)\n",
    "\n",
    "    def ode(t, n):\n",
    "        \"\"\"\n",
    "        Function representing the rate of change of each population compartment in the SIR model.\n",
    "\n",
    "        Parameters:\n",
    "        - t (float): Time parameter (not used in the function, but required for integration).\n",
    "        - n (array): Array representing the current state of the population compartments.\n",
    "\n",
    "        Returns:\n",
    "        - array: Array representing the rate of change of each population compartment.\n",
    "        \"\"\"\n",
    "        DN = np.zeros_like(n)\n",
    "\n",
    "        # Calculate the rate of change for each compartment based on the SIR model equations\n",
    "        if callable(birthrate):\n",
    "            DN[0] = birthrate(t)*d[0] * n[1] - d[1] * n[0]\n",
    "        else:\n",
    "            DN[0] = birthrate*d[0] * n[1] - d[1] * n[0]\n",
    "        DN[1:] = -d[2:] * n[1:] + d[1:-1] * n[:-1]\n",
    "\n",
    "        return DN\n",
    "    \n",
    "    # Return the function representing the population dynamics\n",
    "    return ode\n",
    "\n",
    "        "
   ]
  },
  {
   "cell_type": "code",
   "execution_count": 57,
   "metadata": {},
   "outputs": [
    {
     "data": {
      "text/plain": [
       "[<matplotlib.lines.Line2D at 0x7f0bd87c0eb0>,\n",
       " <matplotlib.lines.Line2D at 0x7f0bd87c0f10>,\n",
       " <matplotlib.lines.Line2D at 0x7f0bd87c0f40>,\n",
       " <matplotlib.lines.Line2D at 0x7f0bd87c1030>]"
      ]
     },
     "execution_count": 57,
     "metadata": {},
     "output_type": "execute_result"
    },
    {
     "data": {
      "image/png": "[encoded data removed]",
      "text/plain": [
       "<Figure size 432x288 with 1 Axes>"
      ]
     },
     "metadata": {
      "needs_background": "light"
     },
     "output_type": "display_data"
    }
   ],
   "source": [
    "deltas = get_deltas()\n",
    "ode = population_SIR(deltas,1.2)\n",
    "\n",
    "ts = np.linspace(0,60,512)\n",
    "x0 = np.array([10,50,30,20])\n",
    "\n",
    "sol =solve_ivp(ode,(0,60),x0,t_eval=ts)\n",
    "\n",
    "plt.plot(sol.t,sol.y.T)\n"
   ]
  }
 ],
 "metadata": {
  "kernelspec": {
   "display_name": "Python 3 (ipykernel)",
   "language": "python",
   "name": "python3"
  },
  "language_info": {
   "codemirror_mode": {
    "name": "ipython",
    "version": 3
   },
   "file_extension": ".py",
   "mimetype": "text/x-python",
   "name": "python",
   "nbconvert_exporter": "python",
   "pygments_lexer": "ipython3",
   "version": "3.9.18"
  }
 },
 "nbformat": 4,
 "nbformat_minor": 2
}
