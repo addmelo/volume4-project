{
 "cells": [
  {
   "cell_type": "markdown",
   "metadata": {},
   "source": [
    "An important factor when discussing the variation of population over time is migration. \n",
    "\n",
    "## Interactive Imigration map\n",
    "https://worldmigrationreport.iom.int/wmr-2022-interactive/\n",
    "\n",
    "# How immigration is affecting population growth in the US\n",
    "https://cis.org/Report/Estimating-Impact-Immigration-US-Population-Growth#:~:text=Using%20the%20ACS%2C%20this%20analysis,over%20the%20last%20two%20decades.\n",
    "\n",
    "## How immigration is affecting the US GDP\n",
    "https://www.fwd.us/news/immigration-and-gdp-growth/#:~:text=According%20to%20our%20latest%20estimates,%2491%2C900%20if%20recent%20immigration%20levels\n"
   ]
  }
 ],
 "metadata": {
  "kernelspec": {
   "display_name": "Python 3 (ipykernel)",
   "language": "python",
   "name": "python3"
  },
  "language_info": {
   "codemirror_mode": {
    "name": "ipython",
    "version": 3
   },
   "file_extension": ".py",
   "mimetype": "text/x-python",
   "name": "python",
   "nbconvert_exporter": "python",
   "pygments_lexer": "ipython3",
   "version": "3.9.18"
  },
  "vscode": {
   "interpreter": {
    "hash": "7f48776e5665f0d2c492622e18e322627c450d8bf45ac283a6455c7b388130df"
   }
  }
 },
 "nbformat": 4,
 "nbformat_minor": 2
}
